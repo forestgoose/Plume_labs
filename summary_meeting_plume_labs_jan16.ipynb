{
 "cells": [
  {
   "cell_type": "markdown",
   "metadata": {},
   "source": [
    "# Summary of the meeting with Fajwel, jan 16"
   ]
  },
  {
   "cell_type": "markdown",
   "metadata": {},
   "source": [
    "* Trying to fit one different model for each city (i.e, zone_id). It can be done by multitask-learning\n",
    "* Running a KNN or another clustering algorithm to highlight similarities between zone_id. It will also help to fill the NANs in the location features\n",
    "* Using laag variables for time series in order to add more features to the weather_model\n",
    "* plot the histogram of the prediction and the target in order to spot the location fo the error. It willbe interesting to see if they are located on the tail of the distribution or not\n",
    "* Intuitively, the hour of the day seems to really matter, so we should work on enhancing the weight of this feature. However adding dummy variables not has enough impact. Instead we can try yo divide the data set for different perod od time and train it separately (or with multi task learning ?)"
   ]
  },
  {
   "cell_type": "code",
   "execution_count": null,
   "metadata": {
    "collapsed": true
   },
   "outputs": [],
   "source": []
  }
 ],
 "metadata": {
  "anaconda-cloud": {},
  "kernelspec": {
   "display_name": "Python [conda root]",
   "language": "python",
   "name": "conda-root-py"
  },
  "language_info": {
   "codemirror_mode": {
    "name": "ipython",
    "version": 3
   },
   "file_extension": ".py",
   "mimetype": "text/x-python",
   "name": "python",
   "nbconvert_exporter": "python",
   "pygments_lexer": "ipython3",
   "version": "3.5.2"
  }
 },
 "nbformat": 4,
 "nbformat_minor": 2
}
