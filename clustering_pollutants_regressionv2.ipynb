{
 "cells": [
  {
   "cell_type": "code",
   "execution_count": 17,
   "metadata": {
    "collapsed": false
   },
   "outputs": [],
   "source": [
    "#loading libraries\n",
    "import pandas as pd\n",
    "import numpy as np\n",
    "import scipy as sp\n",
    "import plotly.offline as py\n",
    "\n",
    "from sklearn.model_selection import GridSearchCV\n",
    "\n",
    "import plotly.graph_objs as go\n",
    "from sklearn import linear_model, cross_validation\n",
    "\n",
    "import datetime"
   ]
  },
  {
   "cell_type": "code",
   "execution_count": 18,
   "metadata": {
    "collapsed": false
   },
   "outputs": [],
   "source": [
    "#loading data\n",
    "df_X_train = pd.read_csv('X_train.csv')\n",
    "n_train = df_X_train.shape[0]\n",
    "\n",
    "df_X_test = pd.read_csv('X_test.csv')\n",
    "n_test = df_X_test.shape[0]\n",
    "\n",
    "df_y_train = pd.read_csv('challenge_output_data_training_file_predict_air_quality_at_the_street_level.csv')\n",
    "#y_train is an array without the 'ID' column\n",
    "y_train = df_y_train['TARGET']\n"
   ]
  },
  {
   "cell_type": "code",
   "execution_count": 19,
   "metadata": {
    "collapsed": false
   },
   "outputs": [
    {
     "data": {
      "text/html": [
       "<div>\n",
       "<table border=\"1\" class=\"dataframe\">\n",
       "  <thead>\n",
       "    <tr style=\"text-align: right;\">\n",
       "      <th></th>\n",
       "      <th>ID</th>\n",
       "      <th>hlres_50</th>\n",
       "      <th>green_5000</th>\n",
       "      <th>hldres_50</th>\n",
       "      <th>daytime</th>\n",
       "      <th>route_100</th>\n",
       "      <th>precipintensity</th>\n",
       "      <th>precipprobability</th>\n",
       "      <th>hlres_1000</th>\n",
       "      <th>temperature</th>\n",
       "      <th>is_calmday</th>\n",
       "      <th>route_1000</th>\n",
       "      <th>roadinvdist</th>\n",
       "      <th>port_5000</th>\n",
       "      <th>windbearingsin</th>\n",
       "      <th>cloudcover</th>\n",
       "      <th>hldres_100</th>\n",
       "      <th>natural_5000</th>\n",
       "      <th>hlres_300</th>\n",
       "      <th>hldres_300</th>\n",
       "      <th>route_300</th>\n",
       "      <th>station_id</th>\n",
       "      <th>pressure</th>\n",
       "      <th>route_500</th>\n",
       "      <th>hlres_500</th>\n",
       "      <th>hlres_100</th>\n",
       "      <th>pollutant</th>\n",
       "      <th>industry_1000</th>\n",
       "      <th>zone_id</th>\n",
       "      <th>windbearingcos</th>\n",
       "      <th>windspeed</th>\n",
       "      <th>hldres_500</th>\n",
       "      <th>hldres_1000</th>\n",
       "    </tr>\n",
       "  </thead>\n",
       "  <tbody>\n",
       "    <tr>\n",
       "      <th>0</th>\n",
       "      <td>0</td>\n",
       "      <td>NaN</td>\n",
       "      <td>5172542.5</td>\n",
       "      <td>3755.19043</td>\n",
       "      <td>72.0</td>\n",
       "      <td>NaN</td>\n",
       "      <td>0.6096</td>\n",
       "      <td>0.61</td>\n",
       "      <td>NaN</td>\n",
       "      <td>9.49</td>\n",
       "      <td>False</td>\n",
       "      <td>8027.166504</td>\n",
       "      <td>0.04678</td>\n",
       "      <td>NaN</td>\n",
       "      <td>-0.587785</td>\n",
       "      <td>1.00</td>\n",
       "      <td>13612.243164</td>\n",
       "      <td>5172542.5</td>\n",
       "      <td>NaN</td>\n",
       "      <td>114993.5625</td>\n",
       "      <td>NaN</td>\n",
       "      <td>16.0</td>\n",
       "      <td>1029.349976</td>\n",
       "      <td>NaN</td>\n",
       "      <td>NaN</td>\n",
       "      <td>NaN</td>\n",
       "      <td>NO2</td>\n",
       "      <td>NaN</td>\n",
       "      <td>0.0</td>\n",
       "      <td>0.809017</td>\n",
       "      <td>6.55</td>\n",
       "      <td>357436.1875</td>\n",
       "      <td>1542650.0</td>\n",
       "    </tr>\n",
       "    <tr>\n",
       "      <th>1</th>\n",
       "      <td>1</td>\n",
       "      <td>NaN</td>\n",
       "      <td>5172542.5</td>\n",
       "      <td>3755.19043</td>\n",
       "      <td>72.0</td>\n",
       "      <td>NaN</td>\n",
       "      <td>0.6096</td>\n",
       "      <td>0.61</td>\n",
       "      <td>NaN</td>\n",
       "      <td>9.49</td>\n",
       "      <td>False</td>\n",
       "      <td>8027.166504</td>\n",
       "      <td>0.04678</td>\n",
       "      <td>NaN</td>\n",
       "      <td>-0.587785</td>\n",
       "      <td>1.00</td>\n",
       "      <td>13612.243164</td>\n",
       "      <td>5172542.5</td>\n",
       "      <td>NaN</td>\n",
       "      <td>114993.5625</td>\n",
       "      <td>NaN</td>\n",
       "      <td>16.0</td>\n",
       "      <td>1029.349976</td>\n",
       "      <td>NaN</td>\n",
       "      <td>NaN</td>\n",
       "      <td>NaN</td>\n",
       "      <td>PM10</td>\n",
       "      <td>NaN</td>\n",
       "      <td>0.0</td>\n",
       "      <td>0.809017</td>\n",
       "      <td>6.55</td>\n",
       "      <td>357436.1875</td>\n",
       "      <td>1542650.0</td>\n",
       "    </tr>\n",
       "    <tr>\n",
       "      <th>2</th>\n",
       "      <td>2</td>\n",
       "      <td>NaN</td>\n",
       "      <td>5172542.5</td>\n",
       "      <td>3755.19043</td>\n",
       "      <td>73.0</td>\n",
       "      <td>NaN</td>\n",
       "      <td>0.0965</td>\n",
       "      <td>0.14</td>\n",
       "      <td>NaN</td>\n",
       "      <td>8.22</td>\n",
       "      <td>False</td>\n",
       "      <td>8027.166504</td>\n",
       "      <td>0.04678</td>\n",
       "      <td>NaN</td>\n",
       "      <td>-0.069756</td>\n",
       "      <td>1.00</td>\n",
       "      <td>13612.243164</td>\n",
       "      <td>5172542.5</td>\n",
       "      <td>NaN</td>\n",
       "      <td>114993.5625</td>\n",
       "      <td>NaN</td>\n",
       "      <td>16.0</td>\n",
       "      <td>1029.560059</td>\n",
       "      <td>NaN</td>\n",
       "      <td>NaN</td>\n",
       "      <td>NaN</td>\n",
       "      <td>NO2</td>\n",
       "      <td>NaN</td>\n",
       "      <td>0.0</td>\n",
       "      <td>0.997564</td>\n",
       "      <td>4.47</td>\n",
       "      <td>357436.1875</td>\n",
       "      <td>1542650.0</td>\n",
       "    </tr>\n",
       "    <tr>\n",
       "      <th>3</th>\n",
       "      <td>3</td>\n",
       "      <td>NaN</td>\n",
       "      <td>5172542.5</td>\n",
       "      <td>3755.19043</td>\n",
       "      <td>73.0</td>\n",
       "      <td>NaN</td>\n",
       "      <td>0.0965</td>\n",
       "      <td>0.14</td>\n",
       "      <td>NaN</td>\n",
       "      <td>8.22</td>\n",
       "      <td>False</td>\n",
       "      <td>8027.166504</td>\n",
       "      <td>0.04678</td>\n",
       "      <td>NaN</td>\n",
       "      <td>-0.069756</td>\n",
       "      <td>1.00</td>\n",
       "      <td>13612.243164</td>\n",
       "      <td>5172542.5</td>\n",
       "      <td>NaN</td>\n",
       "      <td>114993.5625</td>\n",
       "      <td>NaN</td>\n",
       "      <td>16.0</td>\n",
       "      <td>1029.560059</td>\n",
       "      <td>NaN</td>\n",
       "      <td>NaN</td>\n",
       "      <td>NaN</td>\n",
       "      <td>PM10</td>\n",
       "      <td>NaN</td>\n",
       "      <td>0.0</td>\n",
       "      <td>0.997564</td>\n",
       "      <td>4.47</td>\n",
       "      <td>357436.1875</td>\n",
       "      <td>1542650.0</td>\n",
       "    </tr>\n",
       "    <tr>\n",
       "      <th>4</th>\n",
       "      <td>4</td>\n",
       "      <td>NaN</td>\n",
       "      <td>5172542.5</td>\n",
       "      <td>3755.19043</td>\n",
       "      <td>74.0</td>\n",
       "      <td>NaN</td>\n",
       "      <td>0.0000</td>\n",
       "      <td>0.00</td>\n",
       "      <td>NaN</td>\n",
       "      <td>7.58</td>\n",
       "      <td>False</td>\n",
       "      <td>8027.166504</td>\n",
       "      <td>0.04678</td>\n",
       "      <td>NaN</td>\n",
       "      <td>-0.104528</td>\n",
       "      <td>0.97</td>\n",
       "      <td>13612.243164</td>\n",
       "      <td>5172542.5</td>\n",
       "      <td>NaN</td>\n",
       "      <td>114993.5625</td>\n",
       "      <td>NaN</td>\n",
       "      <td>16.0</td>\n",
       "      <td>1029.660034</td>\n",
       "      <td>NaN</td>\n",
       "      <td>NaN</td>\n",
       "      <td>NaN</td>\n",
       "      <td>NO2</td>\n",
       "      <td>NaN</td>\n",
       "      <td>0.0</td>\n",
       "      <td>0.994522</td>\n",
       "      <td>4.11</td>\n",
       "      <td>357436.1875</td>\n",
       "      <td>1542650.0</td>\n",
       "    </tr>\n",
       "  </tbody>\n",
       "</table>\n",
       "</div>"
      ],
      "text/plain": [
       "   ID  hlres_50  green_5000   hldres_50  daytime  route_100  precipintensity  \\\n",
       "0   0       NaN   5172542.5  3755.19043     72.0        NaN           0.6096   \n",
       "1   1       NaN   5172542.5  3755.19043     72.0        NaN           0.6096   \n",
       "2   2       NaN   5172542.5  3755.19043     73.0        NaN           0.0965   \n",
       "3   3       NaN   5172542.5  3755.19043     73.0        NaN           0.0965   \n",
       "4   4       NaN   5172542.5  3755.19043     74.0        NaN           0.0000   \n",
       "\n",
       "   precipprobability  hlres_1000  temperature is_calmday   route_1000  \\\n",
       "0               0.61         NaN         9.49      False  8027.166504   \n",
       "1               0.61         NaN         9.49      False  8027.166504   \n",
       "2               0.14         NaN         8.22      False  8027.166504   \n",
       "3               0.14         NaN         8.22      False  8027.166504   \n",
       "4               0.00         NaN         7.58      False  8027.166504   \n",
       "\n",
       "   roadinvdist  port_5000  windbearingsin  cloudcover    hldres_100  \\\n",
       "0      0.04678        NaN       -0.587785        1.00  13612.243164   \n",
       "1      0.04678        NaN       -0.587785        1.00  13612.243164   \n",
       "2      0.04678        NaN       -0.069756        1.00  13612.243164   \n",
       "3      0.04678        NaN       -0.069756        1.00  13612.243164   \n",
       "4      0.04678        NaN       -0.104528        0.97  13612.243164   \n",
       "\n",
       "   natural_5000  hlres_300   hldres_300  route_300  station_id     pressure  \\\n",
       "0     5172542.5        NaN  114993.5625        NaN        16.0  1029.349976   \n",
       "1     5172542.5        NaN  114993.5625        NaN        16.0  1029.349976   \n",
       "2     5172542.5        NaN  114993.5625        NaN        16.0  1029.560059   \n",
       "3     5172542.5        NaN  114993.5625        NaN        16.0  1029.560059   \n",
       "4     5172542.5        NaN  114993.5625        NaN        16.0  1029.660034   \n",
       "\n",
       "   route_500  hlres_500  hlres_100 pollutant  industry_1000  zone_id  \\\n",
       "0        NaN        NaN        NaN       NO2            NaN      0.0   \n",
       "1        NaN        NaN        NaN      PM10            NaN      0.0   \n",
       "2        NaN        NaN        NaN       NO2            NaN      0.0   \n",
       "3        NaN        NaN        NaN      PM10            NaN      0.0   \n",
       "4        NaN        NaN        NaN       NO2            NaN      0.0   \n",
       "\n",
       "   windbearingcos  windspeed   hldres_500  hldres_1000  \n",
       "0        0.809017       6.55  357436.1875    1542650.0  \n",
       "1        0.809017       6.55  357436.1875    1542650.0  \n",
       "2        0.997564       4.47  357436.1875    1542650.0  \n",
       "3        0.997564       4.47  357436.1875    1542650.0  \n",
       "4        0.994522       4.11  357436.1875    1542650.0  "
      ]
     },
     "execution_count": 19,
     "metadata": {},
     "output_type": "execute_result"
    }
   ],
   "source": [
    "#quick look over the data\n",
    "pd.set_option('display.max_columns', 60)\n",
    "#df_X_train.info()\n",
    "df_X_train.head()\n",
    "#Remark : convert boolean to 1 0 numeric\n",
    "#Remark 2 : pollutant is of type Object"
   ]
  },
  {
   "cell_type": "code",
   "execution_count": 20,
   "metadata": {
    "collapsed": true
   },
   "outputs": [],
   "source": [
    "#First concatenate train and test variable\n",
    "df_X_all = pd.concat([df_X_train, df_X_test], axis = 0)\n",
    "\n",
    "#convert boolean feature iscalm\n",
    "df_X_all.is_calmday = df_X_all.is_calmday.astype(int)\n",
    "df_X_train.is_calmday = df_X_train.is_calmday.astype(int)\n",
    "df_X_test.is_calmday = df_X_test.is_calmday.astype(int)\n",
    "\n",
    "#list of pollutants to perform clustering\n",
    "pollutant_names = ['NO2', 'PM10', 'PM2_5']"
   ]
  },
  {
   "cell_type": "markdown",
   "metadata": {},
   "source": [
    "First model, we take into account features without NA (i.e. all weather related measures,\n",
    "and non categorical data (i.e no zone_id nor station_id)"
   ]
  },
  {
   "cell_type": "code",
   "execution_count": null,
   "metadata": {
    "collapsed": false
   },
   "outputs": [],
   "source": []
  },
  {
   "cell_type": "code",
   "execution_count": 21,
   "metadata": {
    "collapsed": false
   },
   "outputs": [
    {
     "data": {
      "text/plain": [
       "[749060, 749060]"
      ]
     },
     "execution_count": 21,
     "metadata": {},
     "output_type": "execute_result"
    }
   ],
   "source": [
    "#list of features related to weather\n",
    "features = ['daytime', 'precipintensity', 'precipprobability', 'temperature', \n",
    "            'is_calmday', 'windbearingsin', 'cloudcover', 'pressure',\n",
    "            'windbearingcos', 'windspeed']\n",
    "\n",
    "X_numeric = df_X_all[features]\n",
    "#Splitting train and test tables\n",
    "X_train = df_X_train[features]\n",
    "X_test = df_X_test[features]\n",
    "\n",
    "#verifying dimensions\n",
    "[X_test.shape[0] + X_train.shape[0], df_X_all.shape[0]]\n"
   ]
  },
  {
   "cell_type": "code",
   "execution_count": 22,
   "metadata": {
    "collapsed": false
   },
   "outputs": [],
   "source": [
    "#Clustering by pollutants \n",
    "X_train_pollutants = [X_train.ix[df_X_train['pollutant'] == name, : ] for name in pollutant_names]\n",
    "X_test_pollutants = [X_test.ix[df_X_test['pollutant'] == name, : ] for name in pollutant_names]\n",
    "y_train_pollutants = [y_train.ix[df_X_train['pollutant'] == name] for name in pollutant_names]"
   ]
  },
  {
   "cell_type": "code",
   "execution_count": 23,
   "metadata": {
    "collapsed": false
   },
   "outputs": [],
   "source": [
    "index_pollutants_test = df_X_test['pollutant']\n",
    "alpha_grid = np.linspace(0.1,10,5)\n",
    "clf_pred = [] #list to store the results\n",
    "clf_scores = [] #list to store the results\n",
    "clf =GridSearchCV(linear_model.Ridge(), param_grid=dict(alpha=alpha_grid),\n",
    "                   scoring='neg_mean_squared_error', n_jobs = 3)\n",
    "for k in range(3):\n",
    "\n",
    "    clf.fit(X_train_pollutants[k], y_train_pollutants[k])\n",
    "    clf_scores.append(clf.score(X_train_pollutants[k], y_train_pollutants[k]))\n",
    "    clf_pred.append(clf.predict(X_test))"
   ]
  },
  {
   "cell_type": "code",
   "execution_count": 24,
   "metadata": {
    "collapsed": false
   },
   "outputs": [],
   "source": [
    "y_pred = 0\n",
    "for name, k in zip(pollutant_names, range(3)):\n",
    "    y_pred += clf_pred[k] * (index_pollutants_test == name)\n",
    "y_pred.shape\n",
    "y_pred.to_csv('y_pred.csv')"
   ]
  },
  {
   "cell_type": "markdown",
   "metadata": {
    "collapsed": false
   },
   "source": [
    "Conclusion : For all the values of lambda the score is the same around -77 FOR THE LAST CLUSTER (PM_25)\n",
    "We tried a Lasso regression, but it was worse. Best estimator for Lasso is for lambda almost zero. with same score as the Ridge regression. However the score decreases as soon as lambda inscreases (for the Lasso)"
   ]
  },
  {
   "cell_type": "code",
   "execution_count": 26,
   "metadata": {
    "collapsed": false
   },
   "outputs": [
    {
     "data": {
      "text/plain": [
       "[-294.88848325212041, -164.63182940205482, -76.066759624695464]"
      ]
     },
     "execution_count": 26,
     "metadata": {},
     "output_type": "execute_result"
    }
   ],
   "source": [
    "clf_scores"
   ]
  },
  {
   "cell_type": "markdown",
   "metadata": {},
   "source": [
    "Conclusion2 : looking at the scores of the 3 clusters: [-294.88848622247036, -164.63182940111329, -76.066774579253533]\n",
    "The regression performs better on the last pollutant PM2_5. \n",
    "It can be explain by the fact that it represents onlly 7% of the data. The other pollutants\n",
    "represents around 45 % that's why they could be much harder to be predicted"
   ]
  },
  {
   "cell_type": "code",
   "execution_count": 28,
   "metadata": {
    "collapsed": false
   },
   "outputs": [
    {
     "name": "stdout",
     "output_type": "stream",
     "text": [
      "0.44877380845555365 0.4783559494966616 0.07287024204778475\n"
     ]
    }
   ],
   "source": [
    "print(X_test_pollutants[0].shape[0]/n_test,\n",
    "      X_test_pollutants[1].shape[0]/n_test,\n",
    "      X_test_pollutants[2].shape[0]/n_test)\n"
   ]
  },
  {
   "cell_type": "markdown",
   "metadata": {},
   "source": [
    "Idea : remove the is_calm day variable which is the only boolean in the model. Conclusion : the score of the model got worse : [-302.30341071144005, -165.57511041231322, -76.279604179684753]"
   ]
  },
  {
   "cell_type": "markdown",
   "metadata": {},
   "source": [
    "Seconde Step : adding a sub cluster zone_id for each pollutant\n"
   ]
  },
  {
   "cell_type": "code",
   "execution_count": 29,
   "metadata": {
    "collapsed": false
   },
   "outputs": [],
   "source": [
    "index_pollutants_train = df_X_train['pollutant'] == 'NO2'\n"
   ]
  },
  {
   "cell_type": "code",
   "execution_count": 33,
   "metadata": {
    "collapsed": false
   },
   "outputs": [],
   "source": [
    "#Clustering by pollutants and zone\n",
    "zone_name = df_X_train.zone_id.unique()\n",
    "X_train_pollutants_zones = [X_train.ix[(df_X_train['pollutant'] == name) & (df_X_train['zone_id'] == zone),: ] for name in pollutant_names for zone in zone_name]\n",
    "X_test_pollutants_zones = [X_test.ix[(df_X_test['pollutant'] == name) & (df_X_test['zone_id'] == zone),: ] for name in pollutant_names for zone in zone_name]\n",
    "y_train_pollutants_zones = [y_train.ix[(df_X_train['pollutant'] == name) & (df_X_train['zone_id'] == zone)] for name in pollutant_names for zone in zone_name]\n"
   ]
  },
  {
   "cell_type": "code",
   "execution_count": null,
   "metadata": {
    "collapsed": false
   },
   "outputs": [],
   "source": [
    "#WARNING : we got empty list for pollutant PM_25 in zone 0, 3, 4, 5\n",
    "#So we want to skip those index, to not get errors while fitting the model\n",
    "index_pollutants_test = df_X_test['pollutant']\n",
    "index_zone_test = df_X_test['zone_id']\n",
    "alpha_grid = np.linspace(0.1,10,4)\n",
    "clf_pred = [] #list to store the results\n",
    "clf_scores = [] #list to store the results\n",
    "clf =GridSearchCV(linear_model.Ridge(), param_grid=dict(alpha=alpha_grid),\n",
    "                   scoring='neg_mean_squared_error', n_jobs = 2)\n",
    "for k in range(18):\n",
    "    #skipping indexes with no values\n",
    "    if (k == 15 or k == 16 or k ==12 or k ==17):\n",
    "        clf_scores.append(0)\n",
    "        clf_pred.append(0)\n",
    "    else:\n",
    "        clf.fit(X_train_pollutants_zones[k], y_train_pollutants_zones[k])\n",
    "        clf_scores.append(clf.score(X_train_pollutants_zones[k], y_train_pollutants_zones[k]))\n",
    "        clf_pred.append(clf.predict(X_test))"
   ]
  },
  {
   "cell_type": "code",
   "execution_count": 35,
   "metadata": {
    "collapsed": false
   },
   "outputs": [
    {
     "data": {
      "text/plain": [
       "[-188.10797150456611,\n",
       " -372.28797532507468,\n",
       " -289.32022973327344,\n",
       " -434.66643646269955,\n",
       " -125.86472367315132,\n",
       " -132.43254610525133,\n",
       " -134.87891075915979,\n",
       " -129.61229571170281,\n",
       " -128.48226417505771,\n",
       " -155.02130475833309,\n",
       " -112.4174475659284,\n",
       " -252.44855124184241,\n",
       " 0,\n",
       " -82.752149603245769,\n",
       " -69.251062166140784,\n",
       " 0,\n",
       " 0,\n",
       " 0]"
      ]
     },
     "execution_count": 35,
     "metadata": {},
     "output_type": "execute_result"
    }
   ],
   "source": [
    "clf_scores"
   ]
  },
  {
   "cell_type": "code",
   "execution_count": 210,
   "metadata": {
    "collapsed": false
   },
   "outputs": [],
   "source": [
    "y_pred = 0\n",
    "y_pred += clf_pred[0] * ((index_pollutants_test == 'NO2') & (index_zone_test == 0.0))\n",
    "y_pred += clf_pred[1] * ((index_pollutants_test == 'N02') & (index_zone_test == 1.0))\n",
    "y_pred += clf_pred[2] * ((index_pollutants_test == 'NO2') & (index_zone_test == 2.0))\n",
    "y_pred += clf_pred[3] * ((index_pollutants_test == 'NO2') & (index_zone_test == 3.0))\n",
    "y_pred += clf_pred[4] * ((index_pollutants_test == 'NO2') & (index_zone_test == 4.0))\n",
    "y_pred += clf_pred[5] * ((index_pollutants_test == 'NO2') & (index_zone_test == 5.0))\n",
    "y_pred += clf_pred[6] * ((index_pollutants_test == 'PM10') & (index_zone_test == 0.0))\n",
    "y_pred += clf_pred[7] * ((index_pollutants_test == 'PM10') & (index_zone_test == 1.0))\n",
    "y_pred += clf_pred[8] * ((index_pollutants_test == 'PM10') & (index_zone_test == 2.0))\n",
    "y_pred += clf_pred[9] * ((index_pollutants_test == 'PM10') & (index_zone_test == 3.0))\n",
    "y_pred += clf_pred[10] * ((index_pollutants_test == 'PM10') & (index_zone_test == 4.0))\n",
    "y_pred += clf_pred[11] * ((index_pollutants_test == 'PM10') & (index_zone_test == 5.0))\n",
    "y_pred += clf_pred[12] * ((index_pollutants_test == 'PM2_5') & (index_zone_test == 0.0))\n",
    "y_pred += clf_pred[13] * ((index_pollutants_test == 'PM2_5') & (index_zone_test == 1.0))\n",
    "y_pred += clf_pred[14] * ((index_pollutants_test == 'PM2_5') & (index_zone_test == 2.0))\n",
    "y_pred += clf_pred[15] * ((index_pollutants_test == 'PM2_5') & (index_zone_test == 3.0))\n",
    "y_pred += clf_pred[16] * ((index_pollutants_test == 'PM2_5') & (index_zone_test == 4.0))\n",
    "y_pred += clf_pred[17] * ((index_pollutants_test == 'PM2_5') & (index_zone_test == 5.0))\n",
    "\n",
    "y_pred.shape\n",
    "y_pred.to_csv('y_pred3.csv')"
   ]
  },
  {
   "cell_type": "markdown",
   "metadata": {},
   "source": [
    "The resulting loss is of 336. So it's better not to separate each group of pollutant and zone id\n",
    "but to perform a ridge regression on the whole data"
   ]
  },
  {
   "cell_type": "code",
   "execution_count": null,
   "metadata": {
    "collapsed": true
   },
   "outputs": [],
   "source": []
  }
 ],
 "metadata": {
  "anaconda-cloud": {},
  "kernelspec": {
   "display_name": "Python [conda root]",
   "language": "python",
   "name": "conda-root-py"
  },
  "language_info": {
   "codemirror_mode": {
    "name": "ipython",
    "version": 3
   },
   "file_extension": ".py",
   "mimetype": "text/x-python",
   "name": "python",
   "nbconvert_exporter": "python",
   "pygments_lexer": "ipython3",
   "version": "3.5.2"
  }
 },
 "nbformat": 4,
 "nbformat_minor": 1
}
