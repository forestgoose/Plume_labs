{
 "cells": [
  {
   "cell_type": "code",
   "execution_count": 10,
   "metadata": {
    "collapsed": false,
    "scrolled": true
   },
   "outputs": [],
   "source": [
    "import numpy as np\n",
    "import pandas as pd\n",
    "from sklearn.ensemble import RandomForestRegressor\n",
    "from sklearn import tree\n",
    "from sklearn.model_selection import LeaveOneGroupOut\n",
    "from sklearn.model_selection import GridSearchCV, cross_val_score"
   ]
  },
  {
   "cell_type": "code",
   "execution_count": 2,
   "metadata": {
    "collapsed": false
   },
   "outputs": [],
   "source": [
    "X_train = pd.read_csv('X_train.csv')\n",
    "y_train = pd.read_csv('challenge_output_data_training_file_predict_air_quality_at_the_street_level.csv')"
   ]
  },
  {
   "cell_type": "code",
   "execution_count": 3,
   "metadata": {
    "collapsed": false
   },
   "outputs": [],
   "source": [
    "X_train = X_train.drop('ID', 1)\n",
    "y_train = y_train['TARGET']\n",
    "X_train = X_train.fillna(0)"
   ]
  },
  {
   "cell_type": "code",
   "execution_count": 5,
   "metadata": {
    "collapsed": false
   },
   "outputs": [],
   "source": [
    "weather_features = ['precipintensity', 'precipprobability', 'temperature', 'windbearingsin', 'cloudcover', 'pressure',\n",
    "                   'windbearingcos', 'windspeed']"
   ]
  },
  {
   "cell_type": "code",
   "execution_count": 27,
   "metadata": {
    "collapsed": false
   },
   "outputs": [],
   "source": [
    "location_features = ['hlres_50', 'green_5000', 'hldres_50', 'route_100', 'hlres_1000', 'route_1000', \n",
    "                     'roadinvdist', 'port_5000', 'hldres_100', 'natural_5000', 'hlres_300', 'hldres_300', 'route_300', \n",
    "                     'route_500', 'hlres_500', 'hlres_100', 'industry_1000', 'hldres_500', 'hldres_1000']"
   ]
  },
  {
   "cell_type": "code",
   "execution_count": 7,
   "metadata": {
    "collapsed": true
   },
   "outputs": [],
   "source": [
    "def train_and_predict(X_train, y_train, X_test):\n",
    "    X_weather   = X_train[weather_features]\n",
    "    X_location  = X_train[location_features]\n",
    "    weather_model = RandomForestRegressor(n_estimators=30)\n",
    "    weather_model.fit(X_weather, y_train)\n",
    "    y_residuals = y_train - weather_model.predict(X_weather)\n",
    "    df = pd.concat([X_location, y_residuals], axis=1)\n",
    "    grouped = df.groupby(location_features, as_index=False).mean()\n",
    "    location_model = tree.DecisionTreeRegressor()\n",
    "    location_model.fit(grouped[location_features], grouped['TARGET'])\n",
    "    y_pred = weather_model.predict(X_test[weather_features]) + location_model.predict(X_test[location_features])\n",
    "    return y_pred"
   ]
  },
  {
   "cell_type": "code",
   "execution_count": 17,
   "metadata": {
    "collapsed": true
   },
   "outputs": [],
   "source": [
    "def leave_one_zone_out_cv(X, y, zones):\n",
    "    errors = []\n",
    "    for zone in np.unique(zones):\n",
    "        X_train = X.ix[zones != zone]\n",
    "        y_train = y.ix[zones != zone]\n",
    "        X_test  = X.ix[zones == zone]\n",
    "        y_test  = y.ix[zones == zone]\n",
    "        y_pred  = train_and_predict(X_train, y_train, X_test)\n",
    "        errors.append(np.mean((y_test - y_pred) ** 2))\n",
    "    return errors"
   ]
  },
  {
   "cell_type": "code",
   "execution_count": null,
   "metadata": {
    "collapsed": false
   },
   "outputs": [],
   "source": [
    "pollutants = ['NO2', 'PM10', 'PM2_5']\n",
    "y_pred = {}\n",
    "for pollutant in ['NO2']:\n",
    "    X_pollutant = X_train.ix[X_train['pollutant'] == pollutant]\n",
    "    y_pollutant = y_train.ix[X_train['pollutant'] == pollutant]\n",
    "    pollutant_errors = leave_one_zone_out_cv(X_pollutant, y_pollutant, X_pollutant['zone_id'].astype(int))\n",
    "    print(pollutant, \"%.2f\" % np.mean(pollutant_errors), pollutant_errors)"
   ]
  },
  {
   "cell_type": "markdown",
   "metadata": {},
   "source": [
    "## Results\n",
    "Random Forest(n_estimators = 30) + Decision tree:   \n",
    "NO2 377.66 [309.64261838203623, 394.0734002069628, 388.19403376291814, 645.367072389279, 315.6317066125177, 213.0269766329398]   \n",
    "PM10 169.97 [156.03674869547652, 147.95197949452265, 129.26305653166546, 183.01931865519728, 136.09895554356555, 267.4734414085455]  \n",
    "PM2_5 76.26 [78.17981851408975, 74.33626986120647]\n",
    "\n",
    "Remove 'is_calmday' from location_features:  \n",
    "to be done..."
   ]
  }
 ],
 "metadata": {
  "kernelspec": {
   "display_name": "Python 3",
   "language": "python",
   "name": "python3"
  },
  "language_info": {
   "codemirror_mode": {
    "name": "ipython",
    "version": 3
   },
   "file_extension": ".py",
   "mimetype": "text/x-python",
   "name": "python",
   "nbconvert_exporter": "python",
   "pygments_lexer": "ipython3",
   "version": "3.5.2"
  }
 },
 "nbformat": 4,
 "nbformat_minor": 0
}
